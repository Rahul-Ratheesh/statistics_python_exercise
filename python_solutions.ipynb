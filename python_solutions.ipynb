{
 "cells": [
  {
   "cell_type": "code",
   "execution_count": 1,
   "metadata": {},
   "outputs": [],
   "source": [
    "import pylab, numpy"
   ]
  },
  {
   "cell_type": "code",
   "execution_count": 3,
   "metadata": {},
   "outputs": [],
   "source": [
    "def importData(filename):\n",
    "    data = {}\n",
    "    with open(filename, 'r') as dataFile:\n",
    "        headers = dataFile.readline().strip().split(DELIMITER)\n",
    "        for header in headers:\n",
    "            data[header] = []\n",
    "        for line in dataFile:\n",
    "            datarecord = line.strip().split(DELIMITER)\n",
    "            for index, value in enumerate(datarecord):\n",
    "                data[headers[index]].append(value)\n",
    "    return data"
   ]
  },
  {
   "cell_type": "markdown",
   "metadata": {},
   "source": [
    "## Statistics Package Exercise: Exploring Variables in a Dataset"
   ]
  },
  {
   "cell_type": "code",
   "execution_count": 48,
   "metadata": {},
   "outputs": [
    {
     "name": "stdout",
     "output_type": "stream",
     "text": [
      "['Female', 'Female', 'Female', 'Male', 'Female', 'Male', 'Female', 'Female', 'Male', 'Male', 'Female', 'Female', 'Female', 'Male', 'Male', 'Female', 'Female', 'Female', 'Female', 'Female', 'Female', 'Female', 'Female', 'Male', 'Female', 'Female', 'Female', 'Male', 'Male', 'Female', 'Male', 'Male', 'Male', 'Male', 'Male', 'Male', 'Male', 'Male', 'Female', 'Female', 'Male', 'Male', 'Female', 'Female', 'Male', 'Female', 'Male', 'Female', 'Female', 'Female', 'Female', 'Female', 'Female', 'Female', 'Female', 'Female', 'Female', 'Male', 'Male', 'Female', 'Female', 'Male', 'Female', 'Female', 'Female', 'Male', 'Male', 'Female', 'Female', 'Male', 'Female', 'Female', 'Female', 'Female', 'Female', 'Female', 'Female', 'Male', 'Male', 'Female', 'Male', 'Female', 'Male', 'Male', 'Female', 'Male', 'Male', 'Female', 'Female', 'Female', 'Female', 'Male', 'Female', 'Male', 'Male', 'Female', 'Female', 'Male', 'Female', 'Female', 'Female', 'Female', 'Female', 'Female', 'Female', 'Female', 'Female', 'Female', 'Female']\n"
     ]
    }
   ],
   "source": [
    "FILENAME = './data/depression.csv'\n",
    "DELIMITER = ','\n",
    "\n",
    "data = importData(FILENAME)\n",
    "gender = ['Female' if g == '1' else 'Male' for g in data['Gender']]\n",
    "print(gender)"
   ]
  },
  {
   "cell_type": "markdown",
   "metadata": {},
   "source": [
    "## Statistics Package Exercise: Tallying Data and Creating Pie Charts"
   ]
  },
  {
   "cell_type": "code",
   "execution_count": 60,
   "metadata": {},
   "outputs": [],
   "source": [
    "def buildPivotTable(values):\n",
    "    props = {}\n",
    "    for data in values:\n",
    "        count = props.get(data)\n",
    "        if count is None:\n",
    "            props[data] = 1\n",
    "        else:\n",
    "            props[data] = count + 1\n",
    "    return props"
   ]
  },
  {
   "cell_type": "code",
   "execution_count": 62,
   "metadata": {},
   "outputs": [
    {
     "name": "stdout",
     "output_type": "stream",
     "text": [
      "{'Opposite sex': 434, 'No difference': 602, 'Same sex': 164}\n"
     ]
    },
    {
     "data": {
      "image/png": "[encoded data removed]",
      "text/plain": [
       "<Figure size 432x288 with 1 Axes>"
      ]
     },
     "metadata": {},
     "output_type": "display_data"
    }
   ],
   "source": [
    "FILENAME = './data/friends.csv'\n",
    "DELIMITER = ','\n",
    "\n",
    "data = importData(FILENAME)\n",
    "friends = data['Friends']\n",
    "pivotTable = buildPivotTable(friends)\n",
    "print(pivotTable)\n",
    "pylab.figure()\n",
    "pylab.pie(pivotTable.values(), labels = pivotTable.keys(), labeldistance = None, autopct = '%.2f%%', startangle = 90, colors = ['tab:green', 'tab:blue', 'tab:red'])\n",
    "pylab.title('Friend Preferences')\n",
    "pylab.legend()\n",
    "pylab.show()"
   ]
  },
  {
   "cell_type": "markdown",
   "metadata": {},
   "source": [
    "## Statistics Package Exercise: Creating and Describing Histograms"
   ]
  },
  {
   "cell_type": "code",
   "execution_count": 35,
   "metadata": {},
   "outputs": [
    {
     "name": "stdout",
     "output_type": "stream",
     "text": [
      "(array([ 1.,  4., 10.,  8.,  8.,  6.,  2.,  4.,  0.,  0.,  1.]), array([25.        , 29.90909091, 34.81818182, 39.72727273, 44.63636364,\n",
      "       49.54545455, 54.45454545, 59.36363636, 64.27272727, 69.18181818,\n",
      "       74.09090909, 79.        ]), <a list of 11 Patch objects>)\n"
     ]
    },
    {
     "data": {
      "image/png": "[encoded data removed]",
      "text/plain": [
       "<Figure size 432x288 with 1 Axes>"
      ]
     },
     "metadata": {
      "needs_background": "light"
     },
     "output_type": "display_data"
    }
   ],
   "source": [
    "FILENAME = './data/actor_2013.csv'\n",
    "DELIMITER = ','\n",
    "\n",
    "ages = importData(FILENAME)\n",
    "ageValues = [int(age) for age in ages['Age']]\n",
    "figure = pylab.figure()    \n",
    "plot = figure.add_subplot(1, 1, 1)\n",
    "print(pylab.hist(ageValues, bins=11, range=(25, 79), color='steelblue', edgecolor='black', linewidth=0.5))\n",
    "pylab.title('Ages of Best Actor Oscar Winners')\n",
    "pylab.xlabel('Age')\n",
    "pylab.ylabel('Count')\n",
    "plot.set_axisbelow(True)\n",
    "plot.yaxis.grid(color='gray', linestyle='solid')\n",
    "pylab.show()"
   ]
  },
  {
   "cell_type": "markdown",
   "metadata": {},
   "source": [
    "## Statistics Package Exercise: Interpreting The Five Number Summary"
   ]
  },
  {
   "cell_type": "code",
   "execution_count": 37,
   "metadata": {},
   "outputs": [
    {
     "name": "stdout",
     "output_type": "stream",
     "text": [
      "{'min': 29, 'Q1': 38.0, 'median': 43.5, 'Q3': 50.25, 'max': 76}\n"
     ]
    }
   ],
   "source": [
    "desc = {}\n",
    "desc['min'] = numpy.min(ageValues)\n",
    "desc['Q1']  = numpy.quantile(ageValues, 0.25)\n",
    "desc['median'] = numpy.median(ageValues)\n",
    "desc['Q3']  = numpy.quantile(ageValues, 0.75)\n",
    "desc['max'] = numpy.max(ageValues)\n",
    "print(desc)"
   ]
  },
  {
   "cell_type": "markdown",
   "metadata": {},
   "source": [
    "## Statistics Package Exercise: Creating Side-by-Side Boxplots"
   ]
  },
  {
   "cell_type": "code",
   "execution_count": 47,
   "metadata": {},
   "outputs": [
    {
     "data": {
      "image/png": "[encoded data removed]",
      "text/plain": [
       "<Figure size 432x288 with 1 Axes>"
      ]
     },
     "metadata": {
      "needs_background": "light"
     },
     "output_type": "display_data"
    }
   ],
   "source": [
    "FILENAME = './data/graduation.csv'\n",
    "DELIMITER = ','\n",
    "\n",
    "data = importData(FILENAME)\n",
    "collegeGroup = {}\n",
    "for college, gradPercent in zip(*list(data.values())):\n",
    "    if collegeGroup.get(college) is None:\n",
    "        collegeGroup[college] = [float(gradPercent)]\n",
    "    else:\n",
    "        collegeGroup[college].append(float(gradPercent))\n",
    "\n",
    "pylab.boxplot(collegeGroup.values(), labels = ['College A', 'College B', 'College C', 'College D', 'College E', 'College F'])\n",
    "pylab.ylabel('Graduation Percent')\n",
    "pylab.show()"
   ]
  },
  {
   "cell_type": "markdown",
   "metadata": {},
   "source": [
    "### Statistics Package Exercise: Calculating the Standard Deviation"
   ]
  },
  {
   "cell_type": "code",
   "execution_count": 51,
   "metadata": {},
   "outputs": [
    {
     "name": "stdout",
     "output_type": "stream",
     "text": [
      "1.54\n",
      "3.93\n",
      "2.58\n"
     ]
    }
   ],
   "source": [
    "FILENAME = './data/sdintuition.csv'\n",
    "DELIMITER = ','\n",
    "\n",
    "data = importData(FILENAME)\n",
    "class_1 = [int(rating) for rating in data['Class I']]\n",
    "class_2 = [int(rating) for rating in data['Class II']]\n",
    "class_3 = [int(rating) for rating in data['Class III']]\n",
    "print(round(pylab.std(class_1), 2))\n",
    "print(round(pylab.std(class_2), 2))\n",
    "print(round(pylab.std(class_3), 2))"
   ]
  },
  {
   "cell_type": "markdown",
   "metadata": {},
   "source": [
    "## Statistics Package Exercise: Building A Two-Way Table"
   ]
  },
  {
   "cell_type": "code",
   "execution_count": 68,
   "metadata": {},
   "outputs": [
    {
     "name": "stdout",
     "output_type": "stream",
     "text": [
      "{'no light': {'No': 90.12, 'Yes': 9.88}, 'night light': {'No': 65.95, 'Yes': 34.05}, 'lamp': {'No': 45.33, 'Yes': 54.67}}\n",
      "{'No': [90.12, 65.95, 45.33], 'Yes': [9.88, 34.05, 54.67]}\n"
     ]
    },
    {
     "data": {
      "image/png": "[encoded data removed]",
      "text/plain": [
       "<Figure size 432x288 with 1 Axes>"
      ]
     },
     "metadata": {
      "needs_background": "light"
     },
     "output_type": "display_data"
    }
   ],
   "source": [
    "FILENAME = './data/nightlight.csv'\n",
    "DELIMITER = ','\n",
    "\n",
    "def buildTwoWayTable(table):\n",
    "    twoWayTable = {}\n",
    "    for index, key in enumerate(table):\n",
    "        twoWayTable[key] = buildPivotTable(table[key])\n",
    "    return twoWayTable\n",
    "\n",
    "def buildPercentageTable(twoWayTable):\n",
    "    percentTable = {}\n",
    "    for row in twoWayTable:\n",
    "        percentTable[row] = {}\n",
    "        for col in twoWayTable[row]:\n",
    "            percentTable[row][col] = round((twoWayTable[row][col] / sum(twoWayTable[row].values())) * 100, 2)\n",
    "    return percentTable \n",
    "\n",
    "data = importData(FILENAME)\n",
    "lightGroup = {}\n",
    "for lightType, nearsightedness in zip(*list(data.values())):\n",
    "    if lightGroup.get(lightType) is None:\n",
    "        lightGroup[lightType] = [nearsightedness]\n",
    "    else:\n",
    "        lightGroup[lightType].append(nearsightedness)\n",
    "        \n",
    "twoWayTable = buildTwoWayTable(lightGroup)\n",
    "percentTable = buildPercentageTable(twoWayTable)\n",
    "print(percentTable)\n",
    "\n",
    "summary = {}\n",
    "for x in percentTable:\n",
    "    for y in percentTable[x]:\n",
    "        if summary.get(y) is None: \n",
    "            summary[y] = [percentTable[x][y]]\n",
    "        else:\n",
    "            summary[y].append(percentTable[x][y])\n",
    "print(summary)\n",
    "keys = list(summary.keys())\n",
    "values = list(summary.values())\n",
    "bar_width = 0.35\n",
    "N = len(percentTable)\n",
    "index = numpy.arange(N)\n",
    "\n",
    "for i in range(len(values)):\n",
    "    pylab.bar(index + bar_width*i, values[i], bar_width, label=keys[i])\n",
    "\n",
    "pylab.title('Lighting Conditions and Near Sightedness')\n",
    "pylab.xticks(index + bar_width, list(percentTable.keys()))\n",
    "pylab.ylabel('Near Sightedness')\n",
    "pylab.legend()\n",
    "pylab.show()"
   ]
  },
  {
   "cell_type": "markdown",
   "metadata": {},
   "source": [
    "## Statistics Package Exercise: Creating a Scatterplot"
   ]
  },
  {
   "cell_type": "code",
   "execution_count": 73,
   "metadata": {
    "scrolled": true
   },
   "outputs": [
    {
     "data": {
      "image/png": "[encoded data removed]",
      "text/plain": [
       "<Figure size 432x288 with 1 Axes>"
      ]
     },
     "metadata": {
      "needs_background": "light"
     },
     "output_type": "display_data"
    }
   ],
   "source": [
    "FILENAME = './data/height.csv'\n",
    "DELIMITER = ','\n",
    "\n",
    "data = importData(FILENAME)\n",
    "data['gender'] = ['Female' if value == '0' else 'Male' for value in data['gender']]\n",
    "data['height'] = [int(height) for height in data['height']]\n",
    "data['weight'] = [int(weight) for weight in data['weight']]\n",
    "\n",
    "male_height, male_weight, female_height, female_weight = [], [], [], []\n",
    "for gender, height, weight in zip(*list(data.values())):\n",
    "    if gender == 'Male':\n",
    "        male_height.append(height)\n",
    "        male_weight.append(weight)\n",
    "    else:\n",
    "        female_height.append(height)\n",
    "        female_weight.append(weight)\n",
    "\n",
    "figure = pylab.figure()    \n",
    "plot = figure.add_subplot(1, 1, 1)\n",
    "pylab.scatter(male_height, male_weight, color = 'blue', label = 'Male')\n",
    "pylab.scatter(female_height, female_weight, color = 'red', label = 'Female')\n",
    "pylab.title('Height vs Weight')\n",
    "pylab.xlabel('Height')\n",
    "pylab.ylabel('Weight')\n",
    "plot.set_axisbelow(True)\n",
    "plot.yaxis.grid(color = 'gray', linestyle = 'solid', alpha = 0.5)\n",
    "plot.legend()\n",
    "pylab.show()"
   ]
  },
  {
   "cell_type": "markdown",
   "metadata": {},
   "source": [
    "## Statistics Package Exercise: Computing a Correlation"
   ]
  },
  {
   "cell_type": "code",
   "execution_count": 74,
   "metadata": {},
   "outputs": [
    {
     "name": "stdout",
     "output_type": "stream",
     "text": [
      "[[1.         0.66323967]\n",
      " [0.66323967 1.        ]]\n"
     ]
    },
    {
     "data": {
      "image/png": "[encoded data removed]",
      "text/plain": [
       "<Figure size 432x288 with 1 Axes>"
      ]
     },
     "metadata": {
      "needs_background": "light"
     },
     "output_type": "display_data"
    }
   ],
   "source": [
    "FILENAME = './data/animals.csv'\n",
    "DELIMITER = ','\n",
    "\n",
    "data = importData(FILENAME)\n",
    "gestations = [int(gestation) for gestation in data['gestation']]\n",
    "longevitys = [int(longevity) for longevity in data['longevity']]\n",
    "print(numpy.corrcoef(gestations, longevitys))\n",
    "\n",
    "figure = pylab.figure()    \n",
    "plot = figure.add_subplot(1, 1, 1)\n",
    "pylab.scatter(gestations, longevitys, color = 'steelblue')\n",
    "pylab.title('Gestation vs Longevity in Animals')\n",
    "pylab.xlabel('Gestation')\n",
    "pylab.ylabel('Longevity')\n",
    "plot.set_axisbelow(True)\n",
    "plot.yaxis.grid(color = 'gray', linestyle = 'solid', alpha = 0.5)\n",
    "pylab.show()"
   ]
  },
  {
   "cell_type": "markdown",
   "metadata": {},
   "source": [
    "## Statistics Package Exercise: Finding a Regression Line"
   ]
  },
  {
   "cell_type": "code",
   "execution_count": 75,
   "metadata": {},
   "outputs": [
    {
     "data": {
      "image/png": "[encoded data removed]",
      "text/plain": [
       "<Figure size 432x288 with 1 Axes>"
      ]
     },
     "metadata": {
      "needs_background": "light"
     },
     "output_type": "display_data"
    }
   ],
   "source": [
    "FILENAME = './data/olympics_2012.csv'\n",
    "DELIMITER = ','\n",
    "\n",
    "data = importData(FILENAME)\n",
    "years = [int(year) for year in data['Year']]\n",
    "times = [float(time) for time in data['Time']]\n",
    "\n",
    "years = pylab.array(years)\n",
    "times = pylab.array(times)\n",
    "\n",
    "figure = pylab.figure()    \n",
    "plot = figure.add_subplot(1, 1, 1)\n",
    "plot.set_axisbelow(True)\n",
    "plot.yaxis.grid(color='gray', linestyle='solid', alpha=0.5)\n",
    "\n",
    "pylab.scatter(years, times, color='steelblue')\n",
    "pylab.title('Winning times of 1500 meter race in Olympics 2012')\n",
    "pylab.xlabel('Year')\n",
    "pylab.ylabel('Time')\n",
    "a, b = pylab.polyfit(years, times, 1)\n",
    "label = f'y = {round(a, 3)}x + {round(b, 3)}'\n",
    "estTimes = a * years + b\n",
    "pylab.plot(years, estTimes, color='black', label=label, linewidth=1)\n",
    "pylab.legend()\n",
    "pylab.show()"
   ]
  },
  {
   "cell_type": "code",
   "execution_count": null,
   "metadata": {},
   "outputs": [],
   "source": []
  }
 ],
 "metadata": {
  "kernelspec": {
   "display_name": "Python 3",
   "language": "python",
   "name": "python3"
  },
  "language_info": {
   "codemirror_mode": {
    "name": "ipython",
    "version": 3
   },
   "file_extension": ".py",
   "mimetype": "text/x-python",
   "name": "python",
   "nbconvert_exporter": "python",
   "pygments_lexer": "ipython3",
   "version": "3.6.5"
  }
 },
 "nbformat": 4,
 "nbformat_minor": 2
}
